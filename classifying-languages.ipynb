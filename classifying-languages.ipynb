{
 "cells": [
  {
   "cell_type": "code",
   "execution_count": 3,
   "metadata": {},
   "outputs": [],
   "source": [
    "import subprocess\n",
    "import numpy as np\n",
    "import re\n",
    "import os"
   ]
  },
  {
   "cell_type": "code",
   "execution_count": 4,
   "metadata": {},
   "outputs": [],
   "source": [
    "english_test = None\n",
    "tagalog_test = None\n",
    "\n",
    "def read_lines(filepath):\n",
    "    with open(filepath) as input_file:\n",
    "        return [line.strip() for line in input_file.readlines()]\n",
    "    \n",
    "english_test = read_lines('english.test')\n",
    "tagalog_test = read_lines('tagalog.test')\n"
   ]
  },
  {
   "cell_type": "code",
   "execution_count": 6,
   "metadata": {},
   "outputs": [],
   "source": [
    "for r in np.arange(1,10,1):\n",
    "    os.system(\"java -jar negsel2.jar -self english.train -n 10 -r \" +  str(r) + \" -c -l\")"
   ]
  },
  {
   "cell_type": "code",
   "execution_count": 73,
   "metadata": {},
   "outputs": [],
   "source": [
    "english_avgs = np.array([])\n",
    "tagalog_avgs = np.array([])\n",
    "\n",
    "for r in np.arange(1,10,1):\n",
    "    english_avgs = np.append(english_avgs, np.float64(re.sub(\"[\\\\\\\\bn']\", \"\", str(subprocess.check_output(\"java -jar negsel2.jar -self english.train -n 10 -r \" + str(r) + \" -c -l < english.test | awk '{print $1}'\", shell=True)))))\n",
    "    tagalog_avgs = np.append(tagalog_avgs, np.float64(re.sub(\"[\\\\\\\\bn']\", \"\", str(subprocess.check_output(\"java -jar negsel2.jar -self english.train -n 10 -r \" + str(r) + \" -c -l < tagalog.test | awk '{print $1}'\", shell=True)))))"
   ]
  }
 ],
 "metadata": {
  "kernelspec": {
   "display_name": "main_env",
   "language": "python",
   "name": "python3"
  },
  "language_info": {
   "codemirror_mode": {
    "name": "ipython",
    "version": 3
   },
   "file_extension": ".py",
   "mimetype": "text/x-python",
   "name": "python",
   "nbconvert_exporter": "python",
   "pygments_lexer": "ipython3",
   "version": "3.10.4"
  }
 },
 "nbformat": 4,
 "nbformat_minor": 2
}
