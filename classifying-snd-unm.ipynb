{
 "cells": [
  {
   "cell_type": "markdown",
   "metadata": {},
   "source": [
    "# Classifyinng snd-cert\n",
    "This notebook aims to get the best optimal value of n and r for the negative selection algorithm in the snd-umn dataset."
   ]
  },
  {
   "cell_type": "code",
   "execution_count": null,
   "metadata": {},
   "outputs": [],
   "source": [
    "experiment_folder = \"snd-unm\""
   ]
  },
  {
   "cell_type": "code",
   "execution_count": null,
   "metadata": {},
   "outputs": [],
   "source": [
    "import pandas as pd\n",
    "from data_treatment import merge_datasets\n",
    "from model import main\n",
    "from validation import calculate_roc_auc_components\n",
    "from viz import plot_best_aucs_per_n, plot_auc_optimization, plot_roc_auc_from_file"
   ]
  },
  {
   "cell_type": "code",
   "execution_count": null,
   "metadata": {},
   "outputs": [],
   "source": [
    "merge_datasets(\n",
    "    [f\"syscalls/{experiment_folder}/{experiment_folder}.1.test\", f\"syscalls/{experiment_folder}/{experiment_folder}.2.test\", f\"syscalls/{experiment_folder}/{experiment_folder}.3.test\"],\n",
    "    f\"syscalls/{experiment_folder}/{experiment_folder}.test\"\n",
    ")\n",
    "\n",
    "merge_datasets(\n",
    "    [f\"syscalls/{experiment_folder}/{experiment_folder}.1.labels\", f\"syscalls/{experiment_folder}/{experiment_folder}.2.labels\", f\"syscalls/{experiment_folder}/{experiment_folder}.3.labels\"],\n",
    "    f\"syscalls/{experiment_folder}/{experiment_folder}.labels\"\n",
    ")"
   ]
  },
  {
   "cell_type": "code",
   "execution_count": null,
   "metadata": {},
   "outputs": [],
   "source": [
    "auc_metric = {}\n",
    "\n",
    "for n in [7, 8, 9, 10, 11, 12]:\n",
    "    auc_metric[n] = {}\n",
    "    for r in [2, 3, 4, 5]:\n",
    "        main(\n",
    "            f\"syscalls/{experiment_folder}/{experiment_folder}.train\",\n",
    "            f\"syscalls/{experiment_folder}/{experiment_folder}.test\",\n",
    "            n,\n",
    "            r,\n",
    "            f\"syscalls/{experiment_folder}/{experiment_folder}.labels\",\n",
    "            f\"syscalls/{experiment_folder}/results.csv\",\n",
    "        )\n",
    "        \n",
    "        results = pd.read_csv(f\"syscalls/{experiment_folder}/results.csv\")\n",
    "\n",
    "        auc_me, _, _ = calculate_roc_auc_components(results)\n",
    "        auc_metric[n][r] = auc_me\n",
    "        print(f\"{n} {r} {auc_metric[n][r]}\")\n",
    "    \n",
    "    plot_auc_optimization(\n",
    "        n,\n",
    "        [2, 3, 4, 5],\n",
    "        [auc_metric[n][2], auc_metric[n][3], auc_metric[n][4], auc_metric[n][5]],\n",
    "    )"
   ]
  },
  {
   "cell_type": "code",
   "execution_count": null,
   "metadata": {},
   "outputs": [],
   "source": [
    "best_r_values = []\n",
    "\n",
    "best_n = 0\n",
    "best_r_value = 0\n",
    "\n",
    "for n in [7, 8, 9, 10, 11, 12]:\n",
    "    # find the best r for each n\n",
    "    best_r = max(auc_metric[n], key=auc_metric[n].get)\n",
    "    best_r_values.append(auc_metric[n][best_r])\n",
    "\n",
    "    if auc_metric[n][best_r] > best_r_value:\n",
    "        best_n = n\n",
    "        best_r_value = auc_metric[n][best_r]\n",
    "    \n",
    "\n",
    "plot_best_aucs_per_n(\n",
    "    [7, 8, 9, 10, 11, 12],\n",
    "    best_r_values,\n",
    ")"
   ]
  },
  {
   "cell_type": "code",
   "execution_count": null,
   "metadata": {},
   "outputs": [],
   "source": [
    "for r in [2, 3, 4, 5]:\n",
    "    main(\n",
    "        f\"syscalls/{experiment_folder}/{experiment_folder}.train\",\n",
    "        f\"syscalls/{experiment_folder}/{experiment_folder}.test\",\n",
    "        n,\n",
    "        r,\n",
    "        f\"syscalls/{experiment_folder}/{experiment_folder}.labels\",\n",
    "        f\"syscalls/{experiment_folder}/results.csv\",\n",
    "    )\n",
    "    \n",
    "\n",
    "    plot_roc_auc_from_file(\n",
    "        f\"syscalls/{experiment_folder}/results.csv\",\n",
    "        best_n,\n",
    "        r\n",
    "    )"
   ]
  },
  {
   "cell_type": "code",
   "execution_count": null,
   "metadata": {},
   "outputs": [],
   "source": []
  }
 ],
 "metadata": {
  "kernelspec": {
   "display_name": "def_met",
   "language": "python",
   "name": "python3"
  },
  "language_info": {
   "codemirror_mode": {
    "name": "ipython",
    "version": 3
   },
   "file_extension": ".py",
   "mimetype": "text/x-python",
   "name": "python",
   "nbconvert_exporter": "python",
   "pygments_lexer": "ipython3",
   "version": "3.11.7"
  }
 },
 "nbformat": 4,
 "nbformat_minor": 2
}
